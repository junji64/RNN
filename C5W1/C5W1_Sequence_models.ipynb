{
 "cells": [
  {
   "cell_type": "markdown",
   "id": "7d028ffa",
   "metadata": {},
   "source": [
    "<img src=\"./images/C5W1.01.png\" width=\"700\">\n",
    "<img src=\"./images_new/C5W1.02.png\" width=\"700\">\n",
    "<img src=\"./images_new/C5W1.03.png\" width=\"700\">\n",
    "<img src=\"./images_new/C5W1.04.png\" width=\"700\">\n",
    "<img src=\"./images_new/C5W1.05.png\" width=\"700\">"
   ]
  },
  {
   "cell_type": "markdown",
   "id": "f43daa85",
   "metadata": {},
   "source": [
    "<img src=\"./images_new/C5W1.06.png\" width=\"700\">\n",
    "<img src=\"./images_new/C5W1.07.png\" width=\"700\">\n",
    "<img src=\"./images_new/C5W1.08.png\" width=\"700\">\n",
    "<img src=\"./images_new/C5W1.09.png\" width=\"700\">\n",
    "<img src=\"./images_new/C5W1.09-1.png\" width=\"700\">"
   ]
  },
  {
   "cell_type": "markdown",
   "id": "72285dbd",
   "metadata": {},
   "source": [
    "<img src=\"./images_new/C5W1.10.png\" width=\"700\">\n",
    "<img src=\"./images_new/C5W1.11.png\" width=\"700\">\n",
    "<img src=\"./images_new/C5W1.12.png\" width=\"700\">\n",
    "<img src=\"./images_new/C5W1.13.png\" width=\"700\">\n",
    "<img src=\"./images_new/C5W1.14.png\" width=\"700\">"
   ]
  },
  {
   "cell_type": "markdown",
   "id": "88f18753",
   "metadata": {},
   "source": [
    "<img src=\"./images_new/C5W1.15.png\" width=\"700\">\n",
    "<img src=\"./images_new/C5W1.16.png\" width=\"700\">\n",
    "<img src=\"./images_new/C5W1.17.png\" width=\"700\">\n",
    "<img src=\"./images_new/C5W1.18.png\" width=\"700\">\n",
    "<img src=\"./images_new/C5W1.19.png\" width=\"700\">"
   ]
  },
  {
   "cell_type": "markdown",
   "id": "b771e9a3",
   "metadata": {},
   "source": [
    "<img src=\"./images_new/C5W1.20.png\" width=\"700\">\n",
    "<img src=\"./images_new/C5W1.21.png\" width=\"700\">\n",
    "<img src=\"./images_new/C5W1.22.png\" width=\"700\">\n",
    "<img src=\"./images_new/C5W1.23.png\" width=\"700\">\n",
    "<img src=\"./images_new/C5W1.24.png\" width=\"700\">"
   ]
  },
  {
   "cell_type": "markdown",
   "id": "6801f043",
   "metadata": {},
   "source": [
    "<img src=\"./images_new/C5W1.25.png\" width=\"700\">\n",
    "<img src=\"./images_new/C5W1.26.png\" width=\"700\">\n",
    "<img src=\"./images_new/C5W1.27.png\" width=\"700\">"
   ]
  }
 ],
 "metadata": {
  "kernelspec": {
   "display_name": "Python 3",
   "language": "python",
   "name": "python3"
  },
  "language_info": {
   "codemirror_mode": {
    "name": "ipython",
    "version": 3
   },
   "file_extension": ".py",
   "mimetype": "text/x-python",
   "name": "python",
   "nbconvert_exporter": "python",
   "pygments_lexer": "ipython3",
   "version": "3.7.0"
  }
 },
 "nbformat": 4,
 "nbformat_minor": 5
}
