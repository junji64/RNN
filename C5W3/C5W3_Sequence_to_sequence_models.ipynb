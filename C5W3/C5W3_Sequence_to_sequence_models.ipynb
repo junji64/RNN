{
 "cells": [
  {
   "cell_type": "markdown",
   "id": "6a1f6f1a",
   "metadata": {
    "id": "6a1f6f1a"
   },
   "source": [
    "## Sequence to sequence models\n",
    "\n",
    "<img src=\"./images_new/C5W3_01.PNG\" width=\"700\">\n",
    "<br><hr>\n",
    "<img src=\"./images_new/C5W3_02.PNG\" width=\"700\">\n",
    "<br><hr><img src=\"./images_new/C5W3_03.PNG\" width=\"700\">\n",
    "<br><hr><img src=\"./images_new/C5W3_04.PNG\" width=\"700\">\n",
    "<br><hr>"
   ]
  },
  {
   "cell_type": "markdown",
   "id": "e5ec6e06",
   "metadata": {},
   "source": [
    "<img src=\"./images_new/C5W3_05.PNG\" width=\"700\">\n",
    "<br><hr><img src=\"./images_new/C5W3_06.PNG\" width=\"700\">\n",
    "<br><hr><img src=\"./images_new/C5W3_07.PNG\" width=\"700\">\n",
    "<br><hr><img src=\"./images_new/C5W3_08.PNG\" width=\"700\">\n",
    "<br><hr>"
   ]
  },
  {
   "cell_type": "markdown",
   "id": "204942b1",
   "metadata": {},
   "source": [
    "<img src=\"./images_new/C5W3_09.PNG\" width=\"700\">\n",
    "<br><hr><img src=\"./images_new/C5W3_10.PNG\" width=\"700\">\n",
    "<br><hr><img src=\"./images_new/C5W3_11.PNG\" width=\"700\">\n",
    "<br><hr><img src=\"./images_new/C5W3_12.PNG\" width=\"700\">\n",
    "<br><hr>"
   ]
  },
  {
   "cell_type": "markdown",
   "id": "c487dc44",
   "metadata": {},
   "source": [
    "<img src=\"./images_new/C5W3_13.PNG\" width=\"700\">\n",
    "<br><hr><img src=\"./images_new/C5W3_14.PNG\" width=\"700\">\n",
    "<br><hr><img src=\"./images_new/C5W3_15.PNG\" width=\"700\">\n",
    "<br><hr><img src=\"./images_new/C5W3_16.PNG\" width=\"700\">\n",
    "<br><hr>"
   ]
  },
  {
   "cell_type": "markdown",
   "id": "6712d12b",
   "metadata": {
    "id": "6712d12b"
   },
   "source": [
    "### 주의(Attention) 모델 직관 : 긴 시퀀스의 문제\n",
    "<br>\n",
    "<img src=\"./images/C5W3.14.png\" width=\"700\">\n",
    "<br>\n",
    "<hr>\n",
    "\n",
    "### 주의(Attention) 모델 직관\n",
    "<br><br><br><br>\n",
    "<img src=\"./images/C5W3.15.png\" width=\"700\">\n",
    "<br>\n",
    "<hr>"
   ]
  },
  {
   "cell_type": "markdown",
   "id": "ddb73f20",
   "metadata": {
    "id": "ddb73f20"
   },
   "source": [
    "### 주의(Attention) 모델 \n",
    "<br><br><br><br><br><br>\n",
    "<img src=\"./images/C5W3.16.png\" width=\"700\">\n",
    "<br>\n",
    "<hr>\n",
    "\n",
    "### 주의 $\\alpha^{<t,t'>}$ 계산하기 \n",
    "<br>\n",
    "<img src=\"./images/C5W3.17.png\" width=\"700\">\n",
    "<br>\n",
    "<hr>\n",
    "\n",
    "### 주의(Attention) 예\n",
    "<br>\n",
    "July 20th 1969 $\\quad \\rightarrow \\quad $  1969 - 07 - 20 \n",
    "<br>\n",
    "<br>\n",
    "23 April, 1564 $\\quad \\rightarrow \\quad $ 1564 - -4 -23\n",
    "<br>\n",
    "\n",
    "<img src=\"./images/C5W3.18.png\" width=\"700\">\n",
    "<br>\n",
    "<hr>"
   ]
  },
  {
   "cell_type": "markdown",
   "id": "7cabb7e5",
   "metadata": {
    "id": "7cabb7e5"
   },
   "source": [
    "### 음성 인식\n",
    "### 음성 인식 문제\n",
    "<br>\n",
    "<img src=\"./images/C5W3.19.png\" width=\"700\">\n",
    "<br>\n",
    "<hr>\n",
    "\n",
    "### 음성 인식을 위한 주의 모델\n",
    "<br>\n",
    "<img src=\"./images/C5W3.20.png\" width=\"700\">\n",
    "<br>\n",
    "<hr>\n",
    "\n",
    "### 음성 인식을 위한 CTC 비용\n",
    "<br>\n",
    "(Connectionist temporal classification)\n",
    "<br>\n",
    "\"the quick brown fos\"\n",
    "<br>\n",
    "<img src=\"./images/C5W3.21.png\" width=\"700\">\n",
    "<br><br><br><br>\n",
    "Basic rule: collapse repeated characters not separated by \"blank\"\n",
    "<hr>"
   ]
  },
  {
   "cell_type": "markdown",
   "id": "3a0d9abe",
   "metadata": {
    "id": "3a0d9abe"
   },
   "source": [
    "### 트리거 단어 감지\n",
    "### 트리거 단어 감지란 무엇인가?\n",
    "<br><br>\n",
    "<img src=\"./images/C5W3.22.png\" width=\"700\">\n",
    "<br><br>\n",
    "<hr>\n",
    "\n",
    "### 트리거 단어 감지 알고리즘\n",
    "<br><br><br>\n",
    "<img src=\"./images/C5W3.23.png\" width=\"700\">\n",
    "<br>\n",
    "<hr>"
   ]
  },
  {
   "cell_type": "code",
   "execution_count": null,
   "id": "97cb7f86",
   "metadata": {
    "id": "97cb7f86"
   },
   "outputs": [],
   "source": []
  }
 ],
 "metadata": {
  "colab": {
   "name": "C5W3 Sequence to sequence models.ipynb",
   "provenance": []
  },
  "kernelspec": {
   "display_name": "Python 3 (ipykernel)",
   "language": "python",
   "name": "python3"
  },
  "language_info": {
   "codemirror_mode": {
    "name": "ipython",
    "version": 3
   },
   "file_extension": ".py",
   "mimetype": "text/x-python",
   "name": "python",
   "nbconvert_exporter": "python",
   "pygments_lexer": "ipython3",
   "version": "3.8.8"
  }
 },
 "nbformat": 4,
 "nbformat_minor": 5
}
