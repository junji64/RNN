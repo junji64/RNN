{
 "cells": [
  {
   "cell_type": "markdown",
   "id": "6a1f6f1a",
   "metadata": {
    "id": "6a1f6f1a"
   },
   "source": [
    "## Sequence to sequence models\n",
    "\n",
    "### 기본 모델 : 시퀀스 to 시퀀스 모델\n",
    "\n",
    "<img src=\"./images/C5W3.01.png\" width=\"700\">\n",
    "<br><br><br>\n",
    "<hr>\n",
    "\n",
    "### 이미지 설명달기(Captioning)\n",
    "\n",
    "<img src=\"./images/C5W3.02.png\" width=\"700\">\n",
    "<br>\n",
    "<hr>\n"
   ]
  },
  {
   "cell_type": "markdown",
   "id": "bc9b44f7",
   "metadata": {
    "id": "bc9b44f7"
   },
   "source": [
    "### 가장 그럴듯한 문장 뽑기\n",
    "\n",
    "### 조건적 언어 모델을 구축하는 기계번역\n",
    "<img src=\"./images/C5W3.03.png\" width=\"700\">\n",
    "<br>\n",
    "<hr>\n",
    "\n",
    "### 가장 그럴듯한 번역 찾기\n",
    "<img src=\"./images/C5W3.04.png\" width=\"700\">\n",
    "<br>\n",
    "<hr>\n",
    "\n",
    "### 탐욕스런 검색(greedy search)는 왜 아닌가?\n",
    "<img src=\"./images/C5W3.05.png\" width=\"700\">\n",
    "<br>\n",
    "<br>\n",
    "<br>\n",
    "$\\Rightarrow$ Jane is visiting Africa in September.\n",
    "<br>\n",
    "$\\Rightarrow$ Jane is going to be visiting Africa in September.\n",
    "<hr>"
   ]
  },
  {
   "cell_type": "markdown",
   "id": "3235face",
   "metadata": {
    "id": "3235face"
   },
   "source": [
    "### 빔 검색(Beam search)  : 알고리즘\n",
    "<img src=\"./images/C5W3.06.png\" width=\"700\">\n",
    "<br>\n",
    "<hr>\n",
    "\n",
    "<img src=\"./images/C5W3.07.png\" width=\"700\">\n",
    "<br>\n",
    "<hr>\n",
    "\n",
    "<img src=\"./images/C5W3.08.png\" width=\"700\">\n",
    "<br>\n",
    "<hr>"
   ]
  },
  {
   "cell_type": "markdown",
   "id": "bcb5e64e",
   "metadata": {
    "id": "bcb5e64e"
   },
   "source": [
    "### 빔 검색 개선 : 길이 정규화 (length normalization)\n",
    "<img src=\"./images/C5W3.09.png\" width=\"700\">\n",
    "<br>\n",
    "<hr>\n",
    "\n",
    "### 빔 검색 논의\n",
    "<br>\n",
    "<br>\n",
    "빔 폭 B?\n",
    "<br><br><br><br>\n",
    "BFS (Breadth First Search) 또는 DFS (Depth First Search)와 같은 정확한 검색 알고리즘과 달리 Beam Search는 더 빠르게 실행되지만 $\\arg \\max_y P(y|x)$ 에 대한 정확한 최대 값을 찾을 수 있다는 보장은 없습니다.\n",
    "<br>\n",
    "<hr>\n"
   ]
  },
  {
   "cell_type": "markdown",
   "id": "c2b04cee",
   "metadata": {
    "id": "c2b04cee"
   },
   "source": [
    "### 빔 검색에서의 오차분석\n",
    "<br>\n",
    "Jane visite l’Afrique en septembre.\n",
    "<br>\n",
    "<br>\n",
    "Human: Jane visits Africa in September.\n",
    "<br><br>\n",
    "Algorithm: Jane visited Africa last September.\n",
    "<br>\n",
    "<img src=\"./images/C5W3.10.png\" width=\"700\">\n",
    "<br>\n",
    "<hr>\n",
    "\n",
    "### 빔 검색에서의 오차분석\n",
    "<br>\n",
    "Human: Jane visits Africa in September. ($y^*$)\n",
    "<br><br>\n",
    "Algorithm: Jane visited Africa last September. ($\\hat{y}$)\n",
    "<br>\n",
    "Case 1: \n",
    "<br>\n",
    "&nbsp;&nbsp; Beam search chose $\\hat{y}$. But $y^*$ attains higher $P(y|x)$.\n",
    "<br><br>\n",
    "&nbsp;&nbsp; Conclusion: Beam search is at fault.\n",
    "<br>\n",
    "Case 2: \n",
    "<br>\n",
    "&nbsp;&nbsp; $y^*$ is a better translation than $\\hat{y}$. But RNN predicted $P(y^*|x) < P(\\hat{y}|x)$.\n",
    "<br><br>\n",
    "&nbsp;&nbsp; Conclusion: RNN model is at fault.\n",
    "<hr>\n",
    "\n",
    "### 빔 검색에서의 오차분석\n",
    "<br>\n",
    "<img src=\"./images/C5W3.11.png\" width=\"700\">\n",
    "<br>\n",
    "빔 검색과 RNN 모델로 인해 어떤 오류가 발생하는지 파악\n",
    "<br>\n",
    "<hr>"
   ]
  },
  {
   "cell_type": "markdown",
   "id": "b286acd9",
   "metadata": {
    "id": "b286acd9"
   },
   "source": [
    "### Bleu score\n",
    "### 기계번역 평가\n",
    "<br>\n",
    "French: Le chat est sur le tapis.\n",
    "<br>\n",
    "Reference 1: The cat is on the mat.\n",
    "\n",
    "<br>\n",
    "Reference 2: There is a cat on the mat.\n",
    "\n",
    "<br>\n",
    "MT output: the the the the the the the.\n",
    "\n",
    "<br>\n",
    "\n",
    "Precision: \n",
    "<br>\n",
    "Modified precision: \n",
    "\n",
    "<br>\n",
    "<hr>\n",
    "\n",
    "\n",
    "### Bleu score on bigrams\n",
    "<br>\n",
    "Example:\n",
    "<br>\n",
    "Reference 1: The cat is on the mat.\n",
    "<br>\n",
    "Reference 2: There is a cat on the mat.\n",
    "<br>\n",
    "MT output: The cat the cat on the mat.\n",
    "\n",
    "<br>\n",
    "the cat \n",
    "<br>\n",
    "cat the\n",
    "<br>\n",
    "cat on\n",
    "<br>\n",
    "on the\n",
    "<br>\n",
    "the mat\n",
    "<br>\n",
    "<hr>\n",
    "\n",
    "### Bleu score on unigrams\n",
    "<br>\n",
    "Example:\n",
    "<br>\n",
    "Reference 1: The cat is on the mat.\n",
    "<br>\n",
    "Reference 2: There is a cat on the mat.\n",
    "<br>\n",
    "MT output: The cat the cat on the mat.\n",
    "<img src=\"./images/C5W3.12.png\" width=\"700\">\n",
    "<br><br>\n",
    "<hr>\n",
    "\n",
    "### Bleu score on unigrams\n",
    "<br>\n",
    "$p_n =$ Bleu score on n-grams only\n",
    "<br>\n",
    "Combined Bleu score:\n",
    "<br>\n",
    "<img src=\"./images/C5W3.13.png\" width=\"700\">\n",
    "<br><br><br><br>\n",
    "<hr>"
   ]
  },
  {
   "cell_type": "markdown",
   "id": "6712d12b",
   "metadata": {
    "id": "6712d12b"
   },
   "source": [
    "### 주의(Attention) 모델 직관\n",
    "### 긴 시퀀스의 문제\n",
    "<br>\n",
    "<img src=\"./images/C5W3.14.png\" width=\"700\">\n",
    "<br>\n",
    "<hr>\n",
    "\n",
    "### 주의(Attention) 모델 직관\n",
    "<br><br><br><br>\n",
    "<img src=\"./images/C5W3.15.png\" width=\"700\">\n",
    "<br>\n",
    "<hr>"
   ]
  },
  {
   "cell_type": "markdown",
   "id": "ddb73f20",
   "metadata": {
    "id": "ddb73f20"
   },
   "source": [
    "### 주의(Attention) 모델 \n",
    "<br><br><br><br><br><br>\n",
    "<img src=\"./images/C5W3.16.png\" width=\"700\">\n",
    "<br>\n",
    "<hr>\n",
    "\n",
    "### 주의 $\\alpha^{<t,t'>}$ 계산하기 \n",
    "<br>\n",
    "<img src=\"./images/C5W3.17.png\" width=\"700\">\n",
    "<br>\n",
    "<hr>\n",
    "\n",
    "### 주의(Attention) 예\n",
    "<br>\n",
    "July 20th 1969 $\\quad \\rightarrow \\quad $  1969 - 07 - 20 \n",
    "<br>\n",
    "<br>\n",
    "23 April, 1564 $\\quad \\rightarrow \\quad $ 1564 - -4 -23\n",
    "<br>\n",
    "\n",
    "<img src=\"./images/C5W3.18.png\" width=\"700\">\n",
    "<br>\n",
    "<hr>"
   ]
  },
  {
   "cell_type": "markdown",
   "id": "7cabb7e5",
   "metadata": {
    "id": "7cabb7e5"
   },
   "source": [
    "### 음성 인식\n",
    "### 음성 인식 문제\n",
    "<br>\n",
    "<img src=\"./images/C5W3.19.png\" width=\"700\">\n",
    "<br>\n",
    "<hr>\n",
    "\n",
    "### 음성 인식을 위한 주의 모델\n",
    "<br>\n",
    "<img src=\"./images/C5W3.20.png\" width=\"700\">\n",
    "<br>\n",
    "<hr>\n",
    "\n",
    "### 음성 인식을 위한 CTC 비용\n",
    "<br>\n",
    "(Connectionist temporal classification)\n",
    "<br>\n",
    "\"the quick brown fos\"\n",
    "<br>\n",
    "<img src=\"./images/C5W3.21.png\" width=\"700\">\n",
    "<br><br><br><br>\n",
    "Basic rule: collapse repeated characters not separated by \"blank\"\n",
    "<hr>"
   ]
  },
  {
   "cell_type": "markdown",
   "id": "3a0d9abe",
   "metadata": {
    "id": "3a0d9abe"
   },
   "source": [
    "### 트리거 단어 감지\n",
    "### 트리거 단어 감지란 무엇인가?\n",
    "<br><br>\n",
    "<img src=\"./images/C5W3.22.png\" width=\"700\">\n",
    "<br><br>\n",
    "<hr>\n",
    "\n",
    "### 트리거 단어 감지 알고리즘\n",
    "<br><br><br>\n",
    "<img src=\"./images/C5W3.23.png\" width=\"700\">\n",
    "<br>\n",
    "<hr>"
   ]
  },
  {
   "cell_type": "code",
   "execution_count": null,
   "id": "97cb7f86",
   "metadata": {
    "id": "97cb7f86"
   },
   "outputs": [],
   "source": []
  }
 ],
 "metadata": {
  "colab": {
   "name": "C5W3 Sequence to sequence models.ipynb",
   "provenance": []
  },
  "kernelspec": {
   "display_name": "Python 3 (ipykernel)",
   "language": "python",
   "name": "python3"
  },
  "language_info": {
   "codemirror_mode": {
    "name": "ipython",
    "version": 3
   },
   "file_extension": ".py",
   "mimetype": "text/x-python",
   "name": "python",
   "nbconvert_exporter": "python",
   "pygments_lexer": "ipython3",
   "version": "3.8.8"
  }
 },
 "nbformat": 4,
 "nbformat_minor": 5
}
