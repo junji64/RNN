{
 "cells": [
  {
   "cell_type": "markdown",
   "id": "49d6768a",
   "metadata": {},
   "source": [
    "<img src=\"./images_new/C5W2.01.png\" width=\"700\">\n",
    "<img src=\"./images_new/C5W2.02.png\" width=\"700\">\n",
    "<img src=\"./images_new/C5W2.03.png\" width=\"700\">\n",
    "<img src=\"./images_new/C5W2.04.png\" width=\"700\">\n",
    "<img src=\"./images_new/C5W2.05.png\" width=\"700\">"
   ]
  },
  {
   "cell_type": "markdown",
   "id": "a0ed731d",
   "metadata": {},
   "source": [
    "<img src=\"./images_new/C5W2.06.png\" width=\"700\">\n",
    "<img src=\"./images_new/C5W2.07.png\" width=\"700\">\n",
    "<img src=\"./images_new/C5W2.08.png\" width=\"700\">\n",
    "<img src=\"./images_new/C5W2.09.png\" width=\"700\">\n",
    "<img src=\"./images_new/C5W2.10.png\" width=\"700\">"
   ]
  },
  {
   "cell_type": "markdown",
   "id": "ecbdf7ff",
   "metadata": {},
   "source": [
    "<img src=\"./images_new/C5W2.11.png\" width=\"700\">\n",
    "<img src=\"./images_new/C5W2.12.png\" width=\"700\">\n",
    "<img src=\"./images_new/C5W2.13.png\" width=\"700\">\n",
    "<img src=\"./images_new/C5W2.14.png\" width=\"700\">\n",
    "<img src=\"./images_new/C5W2.15.png\" width=\"700\">"
   ]
  },
  {
   "cell_type": "markdown",
   "id": "ff38b1b3",
   "metadata": {},
   "source": [
    "<img src=\"./images_new/C5W2.16.png\" width=\"700\">\n",
    "<img src=\"./images_new/C5W2.17.png\" width=\"700\">\n",
    "<img src=\"./images_new/C5W2.18.png\" width=\"700\">\n",
    "<img src=\"./images_new/C5W2.19.png\" width=\"700\">\n",
    "<img src=\"./images_new/C5W2.20.png\" width=\"700\">"
   ]
  },
  {
   "cell_type": "markdown",
   "id": "9c738c85",
   "metadata": {},
   "source": [
    "<img src=\"./images_new/C5W2.21.png\" width=\"700\">\n",
    "<img src=\"./images_new/C5W2.22.png\" width=\"700\">\n",
    "<img src=\"./images_new/C5W2.23.png\" width=\"700\">\n",
    "<img src=\"./images_new/C5W2.24.png\" width=\"700\">\n",
    "<img src=\"./images_new/C5W2.25.png\" width=\"700\">\n",
    "<img src=\"./images_new/C5W2.26.png\" width=\"700\">"
   ]
  },
  {
   "cell_type": "code",
   "execution_count": null,
   "id": "92f0cb83",
   "metadata": {},
   "outputs": [],
   "source": []
  }
 ],
 "metadata": {
  "kernelspec": {
   "display_name": "Python 3",
   "language": "python",
   "name": "python3"
  },
  "language_info": {
   "codemirror_mode": {
    "name": "ipython",
    "version": 3
   },
   "file_extension": ".py",
   "mimetype": "text/x-python",
   "name": "python",
   "nbconvert_exporter": "python",
   "pygments_lexer": "ipython3",
   "version": "3.7.0"
  }
 },
 "nbformat": 4,
 "nbformat_minor": 5
}
