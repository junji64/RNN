{
 "cells": [
  {
   "cell_type": "markdown",
   "id": "bef7d2d5",
   "metadata": {},
   "source": [
    "<img src=\"../C5W1/images_new/C5W1.13.png\" width=\"700\">\n",
    "<img src=\"../C5W1/images_new/C5W1.14.png\" width=\"700\">\n",
    "<img src=\"../C5W1images_new/C5W1.15.png\" width=\"700\">\n",
    "\n",
    "## Novel Sequence Sampling\n",
    "\n",
    "<img src=\"../C5W1/images_new/C5W1.16.png\" width=\"700\">\n",
    "<img src=\"../C5W1/images_new/C5W1.17.png\" width=\"700\">\n",
    "<img src=\"../C5W1/images_new/C5W1.18.png\" width=\"700\">"
   ]
  },
  {
   "cell_type": "markdown",
   "id": "c4dd3d7d",
   "metadata": {},
   "source": [
    "<img src=\"./images_new/C5W2.01.png\" width=\"700\">\n",
    "<br><br><br>\n",
    "<img src=\"./images_new/C5W2.02.png\" width=\"700\">\n",
    "<br><br><br>\n",
    "<img src=\"./images_new/C5W2.03.png\" width=\"700\">\n",
    "<br><br><br>\n",
    "<img src=\"./images_new/C5W2.04.png\" width=\"700\">\n",
    "<br><br><br>\n",
    "<img src=\"./images_new/C5W2.05.png\" width=\"700\">"
   ]
  },
  {
   "cell_type": "markdown",
   "id": "bf8d415e",
   "metadata": {},
   "source": [
    "<br><br><br>\n",
    "<img src=\"./images_new/C5W2.06.png\" width=\"700\">\n",
    "<br><br><br>\n",
    "<img src=\"./images_new/C5W2.07.png\" width=\"700\">\n",
    "<br><br><br>\n",
    "<img src=\"./images_new/C5W2.08.png\" width=\"700\">\n",
    "<br><br><br>\n",
    "<img src=\"./images_new/C5W2.09.png\" width=\"700\">\n",
    "<br><br><br>\n",
    "<img src=\"./images_new/C5W2.10.png\" width=\"700\">"
   ]
  },
  {
   "cell_type": "markdown",
   "id": "74f72628",
   "metadata": {},
   "source": [
    "<img src=\"./images_new/C5W2.11.png\" width=\"700\">\n",
    "<img src=\"./images_new/C5W2.12.png\" width=\"700\">\n",
    "<img src=\"./images_new/C5W2.13.png\" width=\"700\">\n",
    "<img src=\"./images_new/C5W2.14.png\" width=\"700\">"
   ]
  },
  {
   "cell_type": "markdown",
   "id": "5881ea8c",
   "metadata": {},
   "source": [
    "## (Option)\n",
    "<img src=\"./images_new/C5W2.15.png\" width=\"700\">"
   ]
  },
  {
   "cell_type": "markdown",
   "id": "9e957d97",
   "metadata": {},
   "source": [
    "<img src=\"./images_new/C5W2.16.png\" width=\"700\">\n",
    "<img src=\"./images_new/C5W2.17.png\" width=\"700\">\n",
    "<img src=\"./images_new/C5W2.18.png\" width=\"700\">\n",
    "<img src=\"./images_new/C5W2.19.png\" width=\"700\">\n",
    "<img src=\"./images_new/C5W2.20.png\" width=\"700\">"
   ]
  },
  {
   "cell_type": "markdown",
   "id": "bdd24205",
   "metadata": {},
   "source": [
    "<img src=\"./images_new/C5W2.21.png\" width=\"700\">\n",
    "<img src=\"./images_new/C5W2.22.png\" width=\"700\">\n",
    "<img src=\"./images_new/C5W2.23.png\" width=\"700\">\n",
    "<img src=\"./images_new/C5W2.24.png\" width=\"700\">\n",
    "\n",
    "## (Option)\n",
    "\n",
    "<img src=\"./images_new/C5W2.25.png\" width=\"700\">\n",
    "<img src=\"./images_new/C5W2.26.png\" width=\"700\">"
   ]
  },
  {
   "cell_type": "code",
   "execution_count": null,
   "id": "87f64857",
   "metadata": {},
   "outputs": [],
   "source": []
  }
 ],
 "metadata": {
  "kernelspec": {
   "display_name": "Python 3 (ipykernel)",
   "language": "python",
   "name": "python3"
  },
  "language_info": {
   "codemirror_mode": {
    "name": "ipython",
    "version": 3
   },
   "file_extension": ".py",
   "mimetype": "text/x-python",
   "name": "python",
   "nbconvert_exporter": "python",
   "pygments_lexer": "ipython3",
   "version": "3.8.8"
  }
 },
 "nbformat": 4,
 "nbformat_minor": 5
}
